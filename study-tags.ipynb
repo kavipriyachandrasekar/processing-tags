{
 "cells": [
  {
   "cell_type": "code",
   "execution_count": 1,
   "metadata": {},
   "outputs": [],
   "source": [
    "import nltk\n",
    "from tqdm.notebook import tqdm"
   ]
  },
  {
   "cell_type": "code",
   "execution_count": 2,
   "metadata": {},
   "outputs": [],
   "source": [
    "f = open(\"tags-processed-unique.txt\", \"r\")\n",
    "lines = f.readlines()\n",
    "f.close()"
   ]
  },
  {
   "cell_type": "code",
   "execution_count": 3,
   "metadata": {},
   "outputs": [],
   "source": [
    "lines = lines[0].split(\", \")"
   ]
  },
  {
   "cell_type": "code",
   "execution_count": 4,
   "metadata": {},
   "outputs": [
    {
     "data": {
      "text/plain": [
       "1042"
      ]
     },
     "execution_count": 4,
     "metadata": {},
     "output_type": "execute_result"
    }
   ],
   "source": [
    "len(lines)"
   ]
  },
  {
   "cell_type": "code",
   "execution_count": 5,
   "metadata": {},
   "outputs": [
    {
     "name": "stderr",
     "output_type": "stream",
     "text": [
      "[nltk_data] Downloading package wordnet to\n",
      "[nltk_data]     C:\\Users\\ragha\\AppData\\Roaming\\nltk_data...\n",
      "[nltk_data]   Package wordnet is already up-to-date!\n",
      "[nltk_data] Downloading package omw-1.4 to\n",
      "[nltk_data]     C:\\Users\\ragha\\AppData\\Roaming\\nltk_data...\n",
      "[nltk_data]   Package omw-1.4 is already up-to-date!\n"
     ]
    },
    {
     "data": {
      "text/plain": [
       "True"
      ]
     },
     "execution_count": 5,
     "metadata": {},
     "output_type": "execute_result"
    }
   ],
   "source": [
    "nltk.download('wordnet')\n",
    "nltk.download('omw-1.4')"
   ]
  },
  {
   "cell_type": "code",
   "execution_count": 5,
   "metadata": {},
   "outputs": [],
   "source": [
    "from nltk.corpus import wordnet as wn"
   ]
  },
  {
   "cell_type": "code",
   "execution_count": 6,
   "metadata": {},
   "outputs": [],
   "source": [
    "def get_synonyms(word):\n",
    "    print(word)\n",
    "    return list(map(lambda x: x.name(), wn.synsets(word)[0].lemmas()))"
   ]
  },
  {
   "cell_type": "code",
   "execution_count": 8,
   "metadata": {},
   "outputs": [
    {
     "data": {
      "text/plain": [
       "[Synset('bibulous.s.01')]"
      ]
     },
     "execution_count": 8,
     "metadata": {},
     "output_type": "execute_result"
    }
   ],
   "source": [
    "wn.synsets(lines[0].split()[0])"
   ]
  },
  {
   "cell_type": "code",
   "execution_count": 11,
   "metadata": {},
   "outputs": [],
   "source": [
    "# # Example list of words\n",
    "# word_list = lines[:]\n",
    "\n",
    "# # Remove synonyms from word list\n",
    "# new_word_list = []\n",
    "# for word in tqdm(word_list):\n",
    "#     synonyms = set()\n",
    "#     for syn in wn.synsets(word):\n",
    "#         for lemma in syn.lemmas():\n",
    "#             synonyms.add(lemma.name())\n",
    "#     if not set(word_list) & synonyms:\n",
    "#         new_word_list.append(word)\n",
    "#     else:\n",
    "#         print(word, \"is a synonym of\", list(set(word_list) & synonyms)[0])\n",
    "\n",
    "# # Print new word list without synonyms\n",
    "# print(new_word_list[:10])"
   ]
  },
  {
   "cell_type": "code",
   "execution_count": 30,
   "metadata": {},
   "outputs": [
    {
     "data": {
      "text/plain": [
       "1042"
      ]
     },
     "execution_count": 30,
     "metadata": {},
     "output_type": "execute_result"
    }
   ],
   "source": [
    "def remove_synonyms(words):\n",
    "    new_word_list = []\n",
    "    for word in words:\n",
    "        synsets = wn.synsets(word)\n",
    "        synonyms = set()\n",
    "        for synset in synsets:\n",
    "            for lemma in synset.lemmas():\n",
    "                if lemma.name() != word:\n",
    "                    synonyms.add(lemma.name())\n",
    "        if not synonyms:\n",
    "            new_word_list.append(word)\n",
    "        if synonyms:\n",
    "            new_word_list.append(word)\n",
    "    return new_word_list\n",
    "new_tags = remove_synonyms(lines)\n",
    "len(new_tags)"
   ]
  },
  {
   "cell_type": "code",
   "execution_count": 31,
   "metadata": {},
   "outputs": [
    {
     "data": {
      "text/plain": [
       "1038"
      ]
     },
     "execution_count": 31,
     "metadata": {},
     "output_type": "execute_result"
    }
   ],
   "source": [
    "new_tags = list(set(new_tags))\n",
    "len(new_tags)"
   ]
  },
  {
   "cell_type": "code",
   "execution_count": 46,
   "metadata": {},
   "outputs": [],
   "source": [
    "from langdetect import detect\n",
    "from googletrans import Translator\n",
    "\n",
    "translator = Translator()\n",
    "\n",
    "def is_english(word):\n",
    "    try:\n",
    "        lang = translator.detect(word)\n",
    "        if lang == 'en':\n",
    "            return True\n",
    "        else:\n",
    "            return False\n",
    "    except:\n",
    "        return False\n",
    "\n",
    "def remove_non_english(words):\n",
    "    english_words = []\n",
    "    for word in tqdm(words):\n",
    "        if is_english(word):\n",
    "            english_words.append(word)\n",
    "        else:\n",
    "            try:\n",
    "                translation = translator.translate(word, dest='en')\n",
    "                english_words.append(translation.text)\n",
    "            except:\n",
    "                pass\n",
    "    return english_words"
   ]
  },
  {
   "cell_type": "code",
   "execution_count": 33,
   "metadata": {},
   "outputs": [
    {
     "data": {
      "application/vnd.jupyter.widget-view+json": {
       "model_id": "db8765a8ea8f440e93d3ea3a8f9fd834",
       "version_major": 2,
       "version_minor": 0
      },
      "text/plain": [
       "  0%|          | 0/1038 [00:00<?, ?it/s]"
      ]
     },
     "metadata": {},
     "output_type": "display_data"
    }
   ],
   "source": [
    "new_tags_eng = remove_non_english(new_tags)"
   ]
  },
  {
   "cell_type": "code",
   "execution_count": 67,
   "metadata": {},
   "outputs": [
    {
     "data": {
      "text/plain": [
       "937"
      ]
     },
     "execution_count": 67,
     "metadata": {},
     "output_type": "execute_result"
    }
   ],
   "source": [
    "new_eng_tags = []\n",
    "for i in new_tags:\n",
    "    check = all(list(map(lambda x: False if wn.synsets(x) == [] else True, i.split())))\n",
    "    if check:\n",
    "        new_eng_tags.append(i)\n",
    "len(new_eng_tags)"
   ]
  },
  {
   "cell_type": "code",
   "execution_count": 69,
   "metadata": {},
   "outputs": [
    {
     "data": {
      "text/plain": [
       "937"
      ]
     },
     "execution_count": 69,
     "metadata": {},
     "output_type": "execute_result"
    }
   ],
   "source": [
    "new_eng_tags = list(set(new_eng_tags))"
   ]
  },
  {
   "cell_type": "code",
   "execution_count": 75,
   "metadata": {},
   "outputs": [],
   "source": [
    "new_tags_singwrd = list(filter(lambda x: len(x.split()) == 1, new_eng_tags))"
   ]
  },
  {
   "cell_type": "code",
   "execution_count": 20,
   "metadata": {},
   "outputs": [],
   "source": [
    "new_tags_1 = remove_synonyms(new_tags_eng)"
   ]
  },
  {
   "cell_type": "code",
   "execution_count": 88,
   "metadata": {},
   "outputs": [],
   "source": [
    "new_tags_final = list(map(lambda x: x.lower(), list(set(new_tags_singwrd) - set([i for i in new_tags_singwrd if '-' in i]))))"
   ]
  },
  {
   "cell_type": "code",
   "execution_count": 75,
   "metadata": {},
   "outputs": [],
   "source": [
    "# write the result\n",
    "f = open(\"tags-processed-final.txt\", \"w\")\n",
    "for tag in new_tags_final:\n",
    "    f.write(tag + \",\")\n",
    "f.close()"
   ]
  },
  {
   "cell_type": "code",
   "execution_count": 13,
   "metadata": {},
   "outputs": [],
   "source": [
    "line = list(set(line))"
   ]
  },
  {
   "cell_type": "code",
   "execution_count": 76,
   "metadata": {},
   "outputs": [],
   "source": [
    "f = open(\"tags-processed-final.txt\", \"r\")\n",
    "lines = f.readlines()\n",
    "f.close()"
   ]
  },
  {
   "cell_type": "code",
   "execution_count": 5,
   "metadata": {},
   "outputs": [],
   "source": [
    "# shuffle the list\n",
    "import random\n",
    "line = lines[0].split(\",\")\n",
    "random.shuffle(line)\n"
   ]
  },
  {
   "cell_type": "code",
   "execution_count": 77,
   "metadata": {},
   "outputs": [],
   "source": [
    "new_tags_final = line"
   ]
  },
  {
   "cell_type": "code",
   "execution_count": 78,
   "metadata": {},
   "outputs": [
    {
     "data": {
      "text/plain": [
       "629"
      ]
     },
     "execution_count": 78,
     "metadata": {},
     "output_type": "execute_result"
    }
   ],
   "source": [
    "len(new_tags_final)"
   ]
  },
  {
   "cell_type": "code",
   "execution_count": 29,
   "metadata": {},
   "outputs": [],
   "source": [
    "import difflib\n",
    "from nltk.stem import WordNetLemmatizer\n",
    "lemmatizer = WordNetLemmatizer()"
   ]
  },
  {
   "cell_type": "code",
   "execution_count": 57,
   "metadata": {},
   "outputs": [
    {
     "data": {
      "text/plain": [
       "'nostalgic'"
      ]
     },
     "execution_count": 57,
     "metadata": {},
     "output_type": "execute_result"
    }
   ],
   "source": [
    "def find_root(tag_list):\n",
    "    # use nltk to get the root of the words in the list\n",
    "    root_list = []\n",
    "    for tag in tag_list:\n",
    "        root_list.append(lemmatizer.lemmatize(tag, 'v'))\n",
    "    return root_list\n",
    "lemmatizer.lemmatize('nostalgic', 'v')"
   ]
  },
  {
   "cell_type": "code",
   "execution_count": 47,
   "metadata": {},
   "outputs": [],
   "source": [
    "from nltk.stem.snowball import SnowballStemmer\n",
    "stemmer = SnowballStemmer(language=\"english\")"
   ]
  },
  {
   "cell_type": "code",
   "execution_count": 50,
   "metadata": {},
   "outputs": [],
   "source": [
    "from nltk.stem import PorterStemmer\n",
    "from nltk.tokenize import word_tokenize\n",
    " \n",
    "ps = PorterStemmer()"
   ]
  },
  {
   "cell_type": "code",
   "execution_count": 73,
   "metadata": {},
   "outputs": [
    {
     "name": "stdout",
     "output_type": "stream",
     "text": [
      "emotional not in list\n",
      "spirituality not in list\n",
      "tradition not in list\n"
     ]
    }
   ],
   "source": [
    "def remove_similar_within_list(tag_list):\n",
    "    # use difflib to get the most similar words in the list\n",
    "    res = tag_list[:]\n",
    "    for i in range(len(tag_list)):\n",
    "        for j in range(i+1, len(tag_list)):\n",
    "            if difflib.SequenceMatcher(None, tag_list[i], tag_list[j]).ratio() > 0.8:\n",
    "                if stemmer.stem(tag_list[i]) == stemmer.stem(tag_list[j]):\n",
    "                    # print(tag_list[i], tag_list[j])\n",
    "                    try:\n",
    "                        res.remove(tag_list[j])\n",
    "                    except ValueError:\n",
    "                        print(\"{} not in list\".format(tag_list[j]))\n",
    "\n",
    "    return res\n",
    "tags_new = remove_similar_within_list(line)"
   ]
  },
  {
   "cell_type": "code",
   "execution_count": 74,
   "metadata": {},
   "outputs": [],
   "source": [
    "to_rem = ['nostalgic','india', 'celebratory','dreams','romanticism', 'reverent', 'adoration', 'enthusiasm','humor','melancholy', 'flirtation','lover','rhythm']\n",
    "\n",
    "for i in to_rem:\n",
    "    try:\n",
    "        tags_new.remove(i)\n",
    "    except ValueError:\n",
    "        print(\"{} not in list\".format(i))\n"
   ]
  },
  {
   "cell_type": "code",
   "execution_count": null,
   "metadata": {},
   "outputs": [],
   "source": []
  }
 ],
 "metadata": {
  "kernelspec": {
   "display_name": "base",
   "language": "python",
   "name": "python3"
  },
  "language_info": {
   "codemirror_mode": {
    "name": "ipython",
    "version": 3
   },
   "file_extension": ".py",
   "mimetype": "text/x-python",
   "name": "python",
   "nbconvert_exporter": "python",
   "pygments_lexer": "ipython3",
   "version": "3.9.13"
  },
  "orig_nbformat": 4
 },
 "nbformat": 4,
 "nbformat_minor": 2
}
